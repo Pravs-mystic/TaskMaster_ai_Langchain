{
 "cells": [
  {
   "cell_type": "code",
   "execution_count": 3,
   "metadata": {},
   "outputs": [],
   "source": [
    "import os\n",
    "from langchain.llms import OpenAI\n"
   ]
  },
  {
   "cell_type": "code",
   "execution_count": 5,
   "metadata": {},
   "outputs": [
    {
     "name": "stderr",
     "output_type": "stream",
     "text": [
      "/home/pravs/.local/share/virtualenvs/LangchainProject-ti8dnTJO/lib/python3.10/site-packages/langchain_core/_api/deprecation.py:139: LangChainDeprecationWarning: The class `OpenAI` was deprecated in LangChain 0.0.10 and will be removed in 0.3.0. An updated version of the class exists in the langchain-openai package and should be used instead. To use it run `pip install -U langchain-openai` and import as `from langchain_openai import OpenAI`.\n",
      "  warn_deprecated(\n",
      "/home/pravs/.local/share/virtualenvs/LangchainProject-ti8dnTJO/lib/python3.10/site-packages/langchain_core/_api/deprecation.py:139: LangChainDeprecationWarning: The method `BaseLLM.__call__` was deprecated in langchain-core 0.1.7 and will be removed in 0.3.0. Use invoke instead.\n",
      "  warn_deprecated(\n"
     ]
    },
    {
     "name": "stdout",
     "output_type": "stream",
     "text": [
      "\n",
      "\n",
      "1. Aria Patel\n",
      "2. Leila Singh\n",
      "3. Maya Gupta\n",
      "4. Anjali Kapoor\n",
      "5. Sienna Rao\n",
      "6. Zara Desai\n",
      "7. Nisha Shah\n",
      "8. Ava Mehta\n",
      "9. Priya Patel\n",
      "10. Ananya Sharma\n",
      "11. Leena Patel\n",
      "12. Rhea Singh\n",
      "13. Ishani Kapoor\n",
      "14. Amara Gupta\n",
      "15. Kavya Shah\n",
      "16. Saira Desai\n",
      "17. Riya Rao\n",
      "18. Saniya Mehta\n",
      "19. Neha Patel\n",
      "20. Shreya Sharma\n"
     ]
    }
   ],
   "source": [
    "llm = OpenAI(temperature=0.6)\n",
    "result = llm(\"suggest 3 fancy names for an Indian girl\")\n",
    "print(result)"
   ]
  },
  {
   "cell_type": "code",
   "execution_count": 11,
   "metadata": {},
   "outputs": [],
   "source": [
    "# Create Prompt Template\n",
    "from langchain.prompts import PromptTemplate\n",
    "from langchain.chains import LLMChain   \n",
    "\n",
    "\n",
    "prompt_template_name = PromptTemplate(\n",
    "    input_variables=[\"start_letter\"],\n",
    "    template=\"suggest 3 fancy names for an Indian girl with start letter as {start_letter}\" \n",
    ")\n",
    "\n",
    "name_chain = LLMChain(llm=llm, prompt=prompt_template_name)\n",
    "\n",
    "prompt_template_nick = PromptTemplate(\n",
    "    input_variables=[\"names\"],\n",
    "    template=\"Take each name in {names} and suggest a nick name for it. Return it as comma seperated values.\" \n",
    ")\n",
    "\n",
    "nick_chain = LLMChain(llm=llm, prompt=prompt_template_nick)\n"
   ]
  },
  {
   "cell_type": "code",
   "execution_count": 15,
   "metadata": {},
   "outputs": [
    {
     "name": "stdout",
     "output_type": "stream",
     "text": [
      "\n",
      "\n",
      "1. Chandu, Rika\n",
      "2. Chitra, Gada\n",
      "3. Charu, Lata\n"
     ]
    }
   ],
   "source": [
    "# Simple Sequential Chain\n",
    "\n",
    "from langchain.chains import SimpleSequentialChain\n",
    "\n",
    "chain = SimpleSequentialChain(chains = [name_chain, nick_chain])\n",
    "response = chain.run(\"C\")\n",
    "print(response)"
   ]
  },
  {
   "cell_type": "code",
   "execution_count": 19,
   "metadata": {},
   "outputs": [],
   "source": [
    "# Sequential Chain\n",
    "prompt_template_name = PromptTemplate(\n",
    "    input_variables=[\"start_letter\"],\n",
    "    template=\"suggest 3 fancy names for an Indian girl with start letter as {start_letter}\" \n",
    ")\n",
    "\n",
    "name_chain = LLMChain(llm=llm, prompt=prompt_template_name, output_key = \"names\")\n",
    "\n",
    "prompt_template_nick = PromptTemplate(\n",
    "    input_variables=[\"names\"],\n",
    "    template=\"Take each name in {names} and suggest a nick name for it. Return it as comma seperated values.\" \n",
    ")\n",
    "\n",
    "nick_chain = LLMChain(llm=llm, prompt=prompt_template_nick, output_key = \"nicknames\")\n"
   ]
  },
  {
   "cell_type": "code",
   "execution_count": 20,
   "metadata": {},
   "outputs": [
    {
     "name": "stderr",
     "output_type": "stream",
     "text": [
      "/home/pravs/.local/share/virtualenvs/LangchainProject-ti8dnTJO/lib/python3.10/site-packages/langchain_core/_api/deprecation.py:139: LangChainDeprecationWarning: The method `Chain.__call__` was deprecated in langchain 0.1.0 and will be removed in 0.3.0. Use invoke instead.\n",
      "  warn_deprecated(\n"
     ]
    },
    {
     "data": {
      "text/plain": [
       "{'start_letter': 'D',\n",
       " 'names': '\\n\\n1. Devanshi\\n2. Diya\\n3. Darshana',\n",
       " 'nicknames': '\\n\\n1. Devi, Deva, D\\n2. Dee, Didi, Dia\\n3. Dasha, Dars, Dari'}"
      ]
     },
     "execution_count": 20,
     "metadata": {},
     "output_type": "execute_result"
    }
   ],
   "source": [
    "from langchain.chains import SequentialChain\n",
    "chain = SequentialChain(\n",
    "    chains = [name_chain, nick_chain],\n",
    "    input_variables = [\"start_letter\"],\n",
    "    output_variables = [\"names\",\"nicknames\"]\n",
    ")\n",
    "\n",
    "chain({'start_letter':'D'})"
   ]
  },
  {
   "cell_type": "code",
   "execution_count": 21,
   "metadata": {},
   "outputs": [
    {
     "name": "stdout",
     "output_type": "stream",
     "text": [
      "{'tasks': 'Complete the project report, attend the team meeting, workout, and read a book.', 'daily_tasks': '\\n\\n1. Complete project report\\n2. Attend team meeting\\n3. Workout\\n4. Read a book', 'prioritized_tasks': '\\n\\nHigh:\\n1. Complete project report\\n\\nMedium:\\n1. Attend team meeting\\n2. Workout\\n\\nLow:\\n1. Read a book', 'motivational_quotes': '\\n\\n1. \"The only way to achieve success is by completing what you start. Keep pushing through and finish that project report!\" \\n2. \"Teamwork makes the dream work. Attend that meeting and collaborate with your team to reach your goals.\" \\n3. \"Your body is capable of amazing things. Get moving and give your workout your all!\" \\n4. \"A book can take you on a journey and inspire you to greatness. So pick up that book and let it motivate you to reach new heights.\"'}\n"
     ]
    }
   ],
   "source": [
    "from langchain import LLMChain, PromptTemplate\n",
    "\n",
    "prompt_template_tasks = PromptTemplate(\n",
    "    input_variables=[\"tasks\"],\n",
    "    template=\"Based on the following input: {tasks}, generate a list of daily tasks to be accomplished.\"\n",
    ")\n",
    "\n",
    "task_chain = LLMChain(llm=llm, prompt=prompt_template_tasks, output_key=\"daily_tasks\")\n",
    "\n",
    "\n",
    "prompt_template_prioritize = PromptTemplate(\n",
    "    input_variables=[\"daily_tasks\"],\n",
    "    template=\"Take the following list of tasks: {daily_tasks} and prioritize them into High, Medium, and Low categories.\"\n",
    ")\n",
    "\n",
    "prioritize_chain = LLMChain(llm=llm, prompt=prompt_template_prioritize, output_key=\"prioritized_tasks\")\n",
    "\n",
    "\n",
    "\n",
    "prompt_template_quotes = PromptTemplate(\n",
    "    input_variables=[\"daily_tasks\"],\n",
    "    template=\"For each task in {daily_tasks}, provide a motivational quote to inspire the user to complete the task.\"\n",
    ")\n",
    "\n",
    "quotes_chain = LLMChain(llm=llm, prompt=prompt_template_quotes, output_key=\"motivational_quotes\")\n",
    "\n",
    "\n",
    "\n",
    "daily_planner_chain = SequentialChain(\n",
    "    chains=[task_chain, prioritize_chain, quotes_chain],\n",
    "    input_variables=[\"tasks\"],\n",
    "    output_variables=[\"daily_tasks\", \"prioritized_tasks\", \"motivational_quotes\"]\n",
    ")\n",
    "\n",
    "# Example inputs\n",
    "inputs = {\n",
    "    'tasks': 'Complete the project report, attend the team meeting, workout, and read a book.'\n",
    "}\n",
    "\n",
    "# Get the final output\n",
    "final_output = daily_planner_chain(inputs)\n",
    "print(final_output)\n"
   ]
  },
  {
   "cell_type": "code",
   "execution_count": 22,
   "metadata": {},
   "outputs": [
    {
     "name": "stdout",
     "output_type": "stream",
     "text": [
      "{'tasks': 'Complete the project report, attend the team meeting, workout, and read a book.', 'daily_tasks': '\\n\\n1. Complete project report\\n2. Attend team meeting\\n3. Workout\\n4. Read a book', 'prioritized_tasks': '\\n\\nHigh:\\n1. Complete project report\\n2. Attend team meeting\\n\\nMedium:\\n3. Workout\\n\\nLow:\\n4. Read a book', 'time_estimates': '\\n\\n1. Complete project report: 10-15 hours\\n2. Attend team meeting: 1 hour\\n3. Workout: 1-2 hours\\n4. Read a book: 3-5 hours', 'break_recommendations': '\\n\\n1. Complete project report: \\n- Break down the task into smaller chunks of 2-3 hours each.\\n- Take a 5-10 minute break after every hour of work.\\n- Take a longer break of 30 minutes to 1 hour after completing each chunk.\\n- Stay hydrated and have healthy snacks to maintain energy levels.\\n- Switch to a different task or activity for a short period of time to prevent burnout.\\n- Take a longer break of 1-2 hours after completing half of the report.\\n- Use a timer or schedule breaks to stay on track and maintain productivity.\\n\\n2. Attend team meeting:\\n- Take a short break before the meeting to clear your mind and get focused.\\n- Take notes during the meeting to stay engaged and retain information.\\n- Use the Pomodoro technique and take a 5 minute break after every 25 minutes of the meeting.\\n- Stay engaged and actively participate in the meeting to prevent boredom.\\n- Take a short walk or stretch after the meeting to refresh your mind.\\n\\n3. Workout:\\n- Plan your workout in advance to avoid wasting time figuring out what to do.\\n- Take a 5-10 minute break between sets or exercises.\\n- Stay hydrated and have a small snack before and after the workout.\\n-', 'motivational_quotes': '\\n\\n1. \"Success is not final, failure is not fatal: It is the courage to continue that counts.\" - Winston Churchill\\n2. \"The strength of the team is each individual member. The strength of each member is the team.\" - Phil Jackson\\n3. \"The only bad workout is the one that didn\\'t happen.\" - Unknown\\n4. \"A reader lives a thousand lives before he dies, the man who never reads lives only one.\" - George R.R. Martin', 'productivity_insights': ' \\n\\n1. Project Report\\n- The project report has been completed and submitted to the team leader for review.\\n- It includes a summary of the project, key findings, and recommendations for future improvements.\\n- The report is well-organized and visually appealing, with appropriate use of charts and graphs to present data.\\n\\n2. Team Meeting\\n- Attended the team meeting on time and actively participated in the discussions.\\n- Provided updates on individual progress and raised any issues or concerns.\\n- Offered constructive feedback and suggestions for improving team dynamics and project execution.\\n\\n3. Workout\\n- Completed a 45-minute workout session as planned.\\n- Followed a structured routine, including warm-up, strength training, and cool down.\\n- Kept track of progress and recorded any improvements in fitness levels.\\n\\n4. Book Reading and Productivity Insights\\n- Finished reading \"Atomic Habits\" by James Clear.\\n- Identified key insights and strategies for improving productivity, such as setting small, achievable goals and creating a conducive environment for work.\\n- Shared suggestions with the team on implementing these strategies in the workplace to increase efficiency and effectiveness.'}\n"
     ]
    }
   ],
   "source": [
    "from langchain import LLMChain, PromptTemplate\n",
    "\n",
    "prompt_template_tasks = PromptTemplate(\n",
    "    input_variables=[\"tasks\"],\n",
    "    template=\"Based on the following input: {tasks}, generate a list of daily tasks to be accomplished.\"\n",
    ")\n",
    "\n",
    "task_chain = LLMChain(llm=llm, prompt=prompt_template_tasks, output_key=\"daily_tasks\")\n",
    "\n",
    "prompt_template_prioritize = PromptTemplate(\n",
    "    input_variables=[\"daily_tasks\"],\n",
    "    template=\"Take the following list of tasks: {daily_tasks} and prioritize them into High, Medium, and Low categories.\"\n",
    ")\n",
    "\n",
    "prioritize_chain = LLMChain(llm=llm, prompt=prompt_template_prioritize, output_key=\"prioritized_tasks\")\n",
    "\n",
    "prompt_template_time_estimate = PromptTemplate(\n",
    "    input_variables=[\"daily_tasks\"],\n",
    "    template=\"Estimate the time required to complete each task in the list: {daily_tasks}. Provide the estimates in hours.\"\n",
    ")\n",
    "\n",
    "time_estimate_chain = LLMChain(llm=llm, prompt=prompt_template_time_estimate, output_key=\"time_estimates\")\n",
    "\n",
    "prompt_template_breaks = PromptTemplate(\n",
    "    input_variables=[\"time_estimates\"],\n",
    "    template=\"Based on the following time estimates: {time_estimates}, suggest appropriate break intervals to maintain productivity.\"\n",
    ")\n",
    "\n",
    "breaks_chain = LLMChain(llm=llm, prompt=prompt_template_breaks, output_key=\"break_recommendations\")\n",
    "\n",
    "prompt_template_quotes = PromptTemplate(\n",
    "    input_variables=[\"daily_tasks\"],\n",
    "    template=\"For each task in {daily_tasks}, provide a motivational quote to inspire the user to complete the task.\"\n",
    ")\n",
    "\n",
    "quotes_chain = LLMChain(llm=llm, prompt=prompt_template_quotes, output_key=\"motivational_quotes\")\n",
    "\n",
    "prompt_template_insights = PromptTemplate(\n",
    "    input_variables=[\"daily_tasks\"],\n",
    "    template=\"Based on the completed tasks: {daily_tasks}, generate productivity insights and suggestions for improving efficiency.\"\n",
    ")\n",
    "\n",
    "insights_chain = LLMChain(llm=llm, prompt=prompt_template_insights, output_key=\"productivity_insights\")\n",
    "\n",
    "\n",
    "\n",
    "from langchain.chains import SequentialChain\n",
    "\n",
    "daily_planner_chain = SequentialChain(\n",
    "    chains=[task_chain, prioritize_chain, time_estimate_chain, breaks_chain, quotes_chain, insights_chain],\n",
    "    input_variables=[\"tasks\"],\n",
    "    output_variables=[\"daily_tasks\", \"prioritized_tasks\", \"time_estimates\", \"break_recommendations\", \"motivational_quotes\", \"productivity_insights\"]\n",
    ")\n",
    "\n",
    "# Example inputs\n",
    "inputs = {\n",
    "    'tasks': 'Complete the project report, attend the team meeting, workout, and read a book.'\n",
    "}\n",
    "\n",
    "# Get the final output\n",
    "final_output = daily_planner_chain(inputs)\n",
    "print(final_output)\n"
   ]
  },
  {
   "cell_type": "code",
   "execution_count": null,
   "metadata": {},
   "outputs": [],
   "source": []
  }
 ],
 "metadata": {
  "kernelspec": {
   "display_name": "LangchainProject-ti8dnTJO",
   "language": "python",
   "name": "python3"
  },
  "language_info": {
   "codemirror_mode": {
    "name": "ipython",
    "version": 3
   },
   "file_extension": ".py",
   "mimetype": "text/x-python",
   "name": "python",
   "nbconvert_exporter": "python",
   "pygments_lexer": "ipython3",
   "version": "3.10.12"
  }
 },
 "nbformat": 4,
 "nbformat_minor": 2
}
